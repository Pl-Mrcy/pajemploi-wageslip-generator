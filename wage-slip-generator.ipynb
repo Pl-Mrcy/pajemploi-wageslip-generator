{
 "cells": [
  {
   "attachments": {},
   "cell_type": "markdown",
   "id": "10f48f8d",
   "metadata": {},
   "source": [
    "# Générateur de fiche de paye Pajemploi"
   ]
  },
  {
   "attachments": {},
   "cell_type": "markdown",
   "id": "68acc7f6",
   "metadata": {},
   "source": [
    "## Setup"
   ]
  },
  {
   "cell_type": "code",
   "execution_count": null,
   "id": "60c8d9b7",
   "metadata": {},
   "outputs": [],
   "source": [
    "from datetime import datetime\n",
    "import utils, paidleave"
   ]
  },
  {
   "attachments": {},
   "cell_type": "markdown",
   "id": "3c22b701",
   "metadata": {},
   "source": [
    "## Params"
   ]
  },
  {
   "cell_type": "code",
   "execution_count": null,
   "id": "631d9763",
   "metadata": {},
   "outputs": [],
   "source": [
    "year = 2023\n",
    "month = \"juin\""
   ]
  },
  {
   "attachments": {},
   "cell_type": "markdown",
   "id": "a897fb30",
   "metadata": {},
   "source": [
    "## Charger les données"
   ]
  },
  {
   "attachments": {},
   "cell_type": "markdown",
   "id": "25c2571e",
   "metadata": {},
   "source": [
    "Charge la configuration (détails du contrat de l'auxiliaire) présente au path `data/{year}/{month}/config.json` et le calendrier des absences au path `data/{year}/{month}/calendars.json`\n",
    "\n",
    "Un example de format est disponible.\n",
    "\n",
    "**schéma de données pour la config :**\n",
    "- `start_date_period` : date de départ de la période pour laquelle ce contrat s'applique.\n",
    "- `end_date_period` : date de fin de la période pour laquelle ce contrat s'applique.\n",
    "- `hourly_salary` : salaire horaire **NET**.\n",
    "- `worked_weekly_hours` : nombre total d'heures hebdomadaires travaillées (max 50 légalement).\n",
    "- `recovered_weekly_hours` : nombre d'heures hebdomadaires \"récupérées\" en jours non-travaillés.\n",
    "- `transport_monthly_cost` : frais de transport mensuels de l'auxiliaire parentale.\n",
    "- `transport_allowance_prct` : part des frais de transport remboursés par les employeurs (usuellement 100%).\n",
    "- `daily_meal_allowance` : indemnité de repas quotidienne (par jour travaillé).\n",
    "- `allocation_key` : clé de répartition des frais sur les différentes famille en cas de garde partagée.\n",
    "\n",
    "Le schéma de données permet de donner plusieurs configs dans le cas ou un changement de contrat a eu lieu en cours de mois. Dans ce cas, faîtes bien attention à ce que les périodes temporelles soient bien disjointes.\n",
    "\n",
    "**schéma de données pour les absences :**\n",
    "\n",
    "- `vacation_calendar` : liste des périodes de congés payés et/ou jours de récupération sur le mois.\n",
    "    - `start_date_included` : premier jour de vacance de la période\n",
    "    - `end_date_excluded` : premier jour de **retour au travail** de l'auxiliaire parentale\n",
    "    - **Attention** : Pour signifier que l'auxiliaire parentale a été absente une demi-journée seulement, inscriver la même date pour `start_date_included` et `end_date_excluded`.\n",
    "- `holidays` : liste des jours fériés sur la période.\n",
    "- `sick_days` : liste des périodes de congés maladie sur le mois.\n",
    "    - `start_date_included` : premier jour de vacance de la période\n",
    "    - `end_date_excluded` : premier jour de **retour au travail** de l'auxiliaire parentale\n",
    "    - **Attention** : Pour signifier que l'auxiliaire parentale a été absente une demi-journée seulement, inscriver la même date pour `start_date_included` et `end_date_excluded`.\n",
    "\n",
    "Si vous n'avez pas d'absence à signaler ce mois-ci dans l'une ou l'autre catégorie, laisser la liste vide : `[]`"
   ]
  },
  {
   "cell_type": "code",
   "execution_count": null,
   "id": "522c706c",
   "metadata": {},
   "outputs": [],
   "source": [
    "configs = utils.load_config(year, month)"
   ]
  },
  {
   "cell_type": "code",
   "execution_count": null,
   "id": "c137831d",
   "metadata": {},
   "outputs": [],
   "source": [
    "vacation_calendar, holidays, sick_days = utils.load_calendars(year, month)"
   ]
  },
  {
   "attachments": {},
   "cell_type": "markdown",
   "id": "ec1d9318",
   "metadata": {},
   "source": [
    "## Revue du mois"
   ]
  },
  {
   "cell_type": "code",
   "execution_count": null,
   "id": "0d28a23b",
   "metadata": {},
   "outputs": [],
   "source": [
    "start_date = datetime.strptime(configs[0]['start_date_period'], \"%Y-%m-%d\").date()\n",
    "end_date = datetime.strptime(configs[len(configs)-1]['end_date_period'], \"%Y-%m-%d\").date()"
   ]
  },
  {
   "cell_type": "code",
   "execution_count": null,
   "id": "defe4f3f",
   "metadata": {},
   "outputs": [],
   "source": [
    "df = utils.display_monthly_review(\n",
    "    start_date=start_date,\n",
    "    end_date=end_date, \n",
    "    vacation_calendar=vacation_calendar, \n",
    "    holidays=holidays, \n",
    "    sick_days=sick_days\n",
    ")"
   ]
  },
  {
   "attachments": {},
   "cell_type": "markdown",
   "id": "5db8300c",
   "metadata": {},
   "source": [
    "## Déclaration Pajemploi"
   ]
  },
  {
   "cell_type": "code",
   "execution_count": null,
   "id": "b7c8cd29",
   "metadata": {},
   "outputs": [],
   "source": [
    "period_wages, cp_aquired, recovered_days_acquired = utils.compute_period_wages(start_date, end_date, configs, vacation_calendar=vacation_calendar, holidays=holidays, sick_days=sick_days)"
   ]
  },
  {
   "cell_type": "code",
   "execution_count": null,
   "id": "bbfeffb5",
   "metadata": {},
   "outputs": [],
   "source": [
    "total_wages = utils.compute_total_wages(period_wages)\n",
    "total_wages"
   ]
  },
  {
   "cell_type": "code",
   "execution_count": null,
   "id": "9897f73c",
   "metadata": {},
   "outputs": [],
   "source": [
    "utils.display_urssaf_input_values(total_wages, 'Martin')"
   ]
  },
  {
   "cell_type": "code",
   "execution_count": null,
   "id": "c4ba953b",
   "metadata": {},
   "outputs": [],
   "source": [
    "utils.display_paid_leave_acquired(cp_aquired, recovered_days_acquired)"
   ]
  },
  {
   "cell_type": "code",
   "execution_count": null,
   "id": "6c4d29f8",
   "metadata": {},
   "outputs": [],
   "source": [
    "paidleave.update_suivi(\n",
    "    year=year,\n",
    "    month=month,\n",
    "    cp_aquired=cp_aquired, \n",
    "    recovered_days_acquired=recovered_days_acquired,\n",
    "    days_off_used=df['working_vacation'].sum()\n",
    ")"
   ]
  },
  {
   "cell_type": "code",
   "execution_count": null,
   "id": "5f48e28f",
   "metadata": {},
   "outputs": [],
   "source": [
    "paidleave.display_paid_leave_accumulated()"
   ]
  }
 ],
 "metadata": {
  "kernelspec": {
   "display_name": "Python 3 (ipykernel)",
   "language": "python",
   "name": "python3"
  },
  "language_info": {
   "codemirror_mode": {
    "name": "ipython",
    "version": 3
   },
   "file_extension": ".py",
   "mimetype": "text/x-python",
   "name": "python",
   "nbconvert_exporter": "python",
   "pygments_lexer": "ipython3",
   "version": "3.10.6"
  }
 },
 "nbformat": 4,
 "nbformat_minor": 5
}
