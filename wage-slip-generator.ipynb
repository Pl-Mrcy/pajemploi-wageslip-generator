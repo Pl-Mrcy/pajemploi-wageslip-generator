{
 "cells": [
  {
   "attachments": {},
   "cell_type": "markdown",
   "id": "10f48f8d",
   "metadata": {},
   "source": [
    "# Générateur de fiche de paye Pajemploi"
   ]
  },
  {
   "cell_type": "markdown",
   "id": "68acc7f6",
   "metadata": {},
   "source": [
    "## Setup"
   ]
  },
  {
   "cell_type": "code",
   "execution_count": null,
   "id": "60c8d9b7",
   "metadata": {},
   "outputs": [],
   "source": [
    "from datetime import date\n",
    "import pandas as pd\n",
    "import utils"
   ]
  },
  {
   "cell_type": "markdown",
   "id": "3c22b701",
   "metadata": {},
   "source": [
    "## Params"
   ]
  },
  {
   "cell_type": "code",
   "execution_count": null,
   "id": "b27317bd",
   "metadata": {},
   "outputs": [],
   "source": [
    "start_date = date(2023, 4, 1)\n",
    "end_date = date(2023, 4, 30)"
   ]
  },
  {
   "cell_type": "markdown",
   "id": "568c65c0",
   "metadata": {},
   "source": [
    "Les chiffres de salaire sont nets"
   ]
  },
  {
   "cell_type": "code",
   "execution_count": null,
   "id": "225ebb0a",
   "metadata": {},
   "outputs": [],
   "source": [
    "periods = [\n",
    "    {\n",
    "        'start_date_period': date(2023, 4, 1),\n",
    "        'end_date_period': date(2023, 4, 23),\n",
    "        'config':{\n",
    "            'hourly_salary': 8.87,\n",
    "            'normal_weekly_hours': 40,\n",
    "            'increased_weekly_hours': 8,\n",
    "            'recovered_weekly_hours': 2,\n",
    "            'recovery_coefficient': 1.5,\n",
    "            'num_daily_hours': 10,\n",
    "            'transport_monthly_cost': 84.10,\n",
    "            'transport_allowance_prct': 1,\n",
    "            'daily_meal_allowance': 5,\n",
    "            'allocation_key': pd.DataFrame({\n",
    "                'family': ['Martin', 'Dupont'],\n",
    "                'salary': [0.5, 0.5],\n",
    "                'meal_allowance': [0.5, 0.5],\n",
    "                'transport_allowance': [0.5, 0.5]\n",
    "            })\n",
    "        }\n",
    "    },\n",
    "    {\n",
    "        'start_date_period': date(2023, 4, 24),\n",
    "        'end_date_period': date(2023, 4, 30),\n",
    "        'config':{\n",
    "            'hourly_salary': 10.25,\n",
    "            'normal_weekly_hours': 40,\n",
    "            'increased_weekly_hours': 8,\n",
    "            'recovered_weekly_hours': 2,\n",
    "            'recovery_coefficient': 1.5,\n",
    "            'num_daily_hours': 10,\n",
    "            'transport_monthly_cost': 84.10,\n",
    "            'transport_allowance_prct': 1,\n",
    "            'daily_meal_allowance': 5,\n",
    "            'allocation_key': pd.DataFrame({\n",
    "                'family': ['Martin', 'Dupont'],\n",
    "                'salary': [0.58, 0.42],\n",
    "                'meal_allowance': [0.5, 0.5],\n",
    "                'transport_allowance': [0.5, 0.5]\n",
    "            })\n",
    "        }\n",
    "    }\n",
    "]"
   ]
  },
  {
   "cell_type": "code",
   "execution_count": null,
   "id": "6bf92fd5",
   "metadata": {},
   "outputs": [],
   "source": [
    "vacation_calendar = [\n",
    "    {\n",
    "        \"start_date_included\": date(2023, 4, 14),\n",
    "        \"end_date_excluded\": date(2023, 4, 15)\n",
    "    },\n",
    "]"
   ]
  },
  {
   "cell_type": "code",
   "execution_count": null,
   "id": "7c21492b",
   "metadata": {},
   "outputs": [],
   "source": [
    "holidays = [\n",
    "    {\n",
    "        \"date\": date(2023, 4, 10),\n",
    "        \"name\": \"Pâques\"\n",
    "    }\n",
    "]"
   ]
  },
  {
   "cell_type": "code",
   "execution_count": null,
   "id": "2bc42ecb",
   "metadata": {},
   "outputs": [],
   "source": [
    "sick_days = [\n",
    "#     {\n",
    "#         \"start_date_included\": date(2023, 2, 11),\n",
    "#         \"end_date_excluded\": date(2023, 2, 28)\n",
    "#     }\n",
    "]"
   ]
  },
  {
   "cell_type": "markdown",
   "id": "ec1d9318",
   "metadata": {},
   "source": [
    "## Revue du mois"
   ]
  },
  {
   "cell_type": "code",
   "execution_count": null,
   "id": "defe4f3f",
   "metadata": {},
   "outputs": [],
   "source": [
    "utils.display_monthly_review(start_date, end_date, vacation_calendar, holidays, sick_days)"
   ]
  },
  {
   "cell_type": "code",
   "execution_count": null,
   "id": "b7c8cd29",
   "metadata": {},
   "outputs": [],
   "source": [
    "period_wages = utils.compute_period_wages(start_date, end_date, periods, vacation_calendar=vacation_calendar, holidays=holidays, sick_days=sick_days)"
   ]
  },
  {
   "cell_type": "code",
   "execution_count": null,
   "id": "bbfeffb5",
   "metadata": {},
   "outputs": [],
   "source": [
    "total_wages = utils.compute_total_wages(period_wages)\n",
    "total_wages"
   ]
  },
  {
   "cell_type": "code",
   "execution_count": null,
   "id": "9897f73c",
   "metadata": {},
   "outputs": [],
   "source": [
    "utils.display_urssaf_input_values(total_wages, 'Martin')"
   ]
  }
 ],
 "metadata": {
  "kernelspec": {
   "display_name": "Python 3 (ipykernel)",
   "language": "python",
   "name": "python3"
  },
  "language_info": {
   "codemirror_mode": {
    "name": "ipython",
    "version": 3
   },
   "file_extension": ".py",
   "mimetype": "text/x-python",
   "name": "python",
   "nbconvert_exporter": "python",
   "pygments_lexer": "ipython3",
   "version": "3.10.6"
  }
 },
 "nbformat": 4,
 "nbformat_minor": 5
}
