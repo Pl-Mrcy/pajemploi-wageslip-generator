{
 "cells": [
  {
   "cell_type": "markdown",
   "id": "fc6bfc62",
   "metadata": {},
   "source": [
    "# Calcul des congés de la nounou"
   ]
  },
  {
   "cell_type": "code",
   "execution_count": null,
   "id": "4f6667a3",
   "metadata": {},
   "outputs": [],
   "source": [
    "recovered_weekly_hours = 2\n",
    "num_week_per_month = 52/12\n",
    "recovery_coefficient = 1.5\n",
    "num_daily_hours = 10"
   ]
  },
  {
   "cell_type": "code",
   "execution_count": null,
   "id": "dbfb5143",
   "metadata": {},
   "outputs": [],
   "source": [
    "recovered_hours_per_month = recovered_weekly_hours*num_week_per_month*recovery_coefficient"
   ]
  },
  {
   "cell_type": "code",
   "execution_count": null,
   "id": "2d1b982c",
   "metadata": {},
   "outputs": [],
   "source": [
    "recovered_days_per_month = recovered_hours_per_month/num_daily_hours\n",
    "recovered_days_per_month"
   ]
  },
  {
   "cell_type": "code",
   "execution_count": null,
   "id": "ebf61822",
   "metadata": {},
   "outputs": [],
   "source": [
    "recovered_days_annualy = round(recovered_days_per_month*12)"
   ]
  },
  {
   "cell_type": "code",
   "execution_count": null,
   "id": "7a459eab",
   "metadata": {},
   "outputs": [],
   "source": [
    "paid_leave_days_per_year = 5*5\n",
    "paid_leave_days_per_month = paid_leave_days_per_year/12\n",
    "paid_leave_days_per_month"
   ]
  },
  {
   "cell_type": "code",
   "execution_count": null,
   "id": "b896c248",
   "metadata": {},
   "outputs": [],
   "source": [
    "total_days_ooo_per_year = paid_leave_days_per_year+recovered_days_annualy\n",
    "total_days_ooo_per_year"
   ]
  }
 ],
 "metadata": {
  "kernelspec": {
   "display_name": "Python 3 (ipykernel)",
   "language": "python",
   "name": "python3"
  },
  "language_info": {
   "codemirror_mode": {
    "name": "ipython",
    "version": 3
   },
   "file_extension": ".py",
   "mimetype": "text/x-python",
   "name": "python",
   "nbconvert_exporter": "python",
   "pygments_lexer": "ipython3",
   "version": "3.9.16"
  }
 },
 "nbformat": 4,
 "nbformat_minor": 5
}
