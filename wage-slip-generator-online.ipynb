{
 "cells": [
  {
   "attachments": {},
   "cell_type": "markdown",
   "id": "10f48f8d",
   "metadata": {},
   "source": [
    "# Générateur de fiche de paye Pajemploi"
   ]
  },
  {
   "attachments": {},
   "cell_type": "markdown",
   "id": "68acc7f6",
   "metadata": {},
   "source": [
    "## Setup"
   ]
  },
  {
   "cell_type": "code",
   "execution_count": null,
   "id": "60c8d9b7",
   "metadata": {},
   "outputs": [],
   "source": [
    "from datetime import datetime\n",
    "import utils, paidleave"
   ]
  },
  {
   "attachments": {},
   "cell_type": "markdown",
   "id": "3c22b701",
   "metadata": {},
   "source": [
    "## Params"
   ]
  },
  {
   "cell_type": "code",
   "execution_count": null,
   "id": "631d9763",
   "metadata": {},
   "outputs": [],
   "source": [
    "year = 2023\n",
    "month = \"juin\""
   ]
  },
  {
   "attachments": {},
   "cell_type": "markdown",
   "id": "a897fb30",
   "metadata": {},
   "source": [
    "## Charger les données"
   ]
  },
  {
   "cell_type": "code",
   "execution_count": null,
   "id": "522c706c",
   "metadata": {},
   "outputs": [],
   "source": [
    "configs = [\n",
    "    {\n",
    "        \"start_date_period\": \"2023-06-01\",\n",
    "        \"end_date_period\": \"2023-06-30\",\n",
    "        \"config\":{\n",
    "            \"hourly_salary\": 10.25,\n",
    "            \"worked_weekly_hours\": 50,\n",
    "            \"recovered_weekly_hours\": 0,\n",
    "            \"transport_monthly_cost\": 84.10,\n",
    "            \"transport_allowance_prct\": 1,\n",
    "            \"daily_meal_allowance\": 5,\n",
    "            \"allocation_key\": {\n",
    "                \"family\": [\"Martin\", \"Dupont\"],\n",
    "                \"salary\": [0.6, 0.4],\n",
    "                \"meal_allowance\": [0.5, 0.5],\n",
    "                \"transport_allowance\": [0.5, 0.5]\n",
    "            }\n",
    "        }\n",
    "    }\n",
    "]"
   ]
  },
  {
   "cell_type": "code",
   "execution_count": null,
   "id": "c137831d",
   "metadata": {},
   "outputs": [],
   "source": [
    "vacation_calendar =  [\n",
    "    {\n",
    "        \"start_date_included\": \"2023-04-14\",\n",
    "        \"end_date_excluded\":\"2023-04-15\"\n",
    "    }\n",
    "]\n",
    "holidays = [\n",
    "    {\n",
    "        \"date\": \"2023-04-10\",\n",
    "        \"name\": \"Pâques\"\n",
    "    }\n",
    "]\n",
    "sick_days = [\n",
    "    {\n",
    "        \"start_date_included\": \"2023-05-29\",\n",
    "        \"end_date_excluded\":\"2023-04-15\"\n",
    "    }\n",
    "]"
   ]
  },
  {
   "attachments": {},
   "cell_type": "markdown",
   "id": "ec1d9318",
   "metadata": {},
   "source": [
    "## Revue du mois"
   ]
  },
  {
   "cell_type": "code",
   "execution_count": null,
   "id": "0d28a23b",
   "metadata": {},
   "outputs": [],
   "source": [
    "start_date = datetime.strptime(configs[0]['start_date_period'], \"%Y-%m-%d\").date()\n",
    "end_date = datetime.strptime(configs[len(configs)-1]['end_date_period'], \"%Y-%m-%d\").date()"
   ]
  },
  {
   "cell_type": "code",
   "execution_count": null,
   "id": "defe4f3f",
   "metadata": {},
   "outputs": [],
   "source": [
    "df = utils.display_monthly_review(\n",
    "    start_date=start_date,\n",
    "    end_date=end_date, \n",
    "    vacation_calendar=vacation_calendar, \n",
    "    holidays=holidays, \n",
    "    sick_days=sick_days\n",
    ")"
   ]
  },
  {
   "attachments": {},
   "cell_type": "markdown",
   "id": "5db8300c",
   "metadata": {},
   "source": [
    "## Déclaration Pajemploi"
   ]
  },
  {
   "cell_type": "code",
   "execution_count": null,
   "id": "b7c8cd29",
   "metadata": {},
   "outputs": [],
   "source": [
    "period_wages, cp_aquired, recovered_days_acquired = utils.compute_period_wages(start_date, end_date, configs, vacation_calendar=vacation_calendar, holidays=holidays, sick_days=sick_days)"
   ]
  },
  {
   "cell_type": "code",
   "execution_count": null,
   "id": "bbfeffb5",
   "metadata": {},
   "outputs": [],
   "source": [
    "total_wages = utils.compute_total_wages(period_wages)\n",
    "total_wages"
   ]
  },
  {
   "cell_type": "code",
   "execution_count": null,
   "id": "9897f73c",
   "metadata": {},
   "outputs": [],
   "source": [
    "utils.display_urssaf_input_values(total_wages, 'Martin')"
   ]
  },
  {
   "cell_type": "code",
   "execution_count": null,
   "id": "c4ba953b",
   "metadata": {},
   "outputs": [],
   "source": [
    "utils.display_paid_leave_acquired(cp_aquired, recovered_days_acquired)"
   ]
  }
 ],
 "metadata": {
  "kernelspec": {
   "display_name": "Python 3 (ipykernel)",
   "language": "python",
   "name": "python3"
  },
  "language_info": {
   "codemirror_mode": {
    "name": "ipython",
    "version": 3
   },
   "file_extension": ".py",
   "mimetype": "text/x-python",
   "name": "python",
   "nbconvert_exporter": "python",
   "pygments_lexer": "ipython3",
   "version": "3.10.6"
  }
 },
 "nbformat": 4,
 "nbformat_minor": 5
}
