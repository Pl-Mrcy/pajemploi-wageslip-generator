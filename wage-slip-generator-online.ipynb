{
 "cells": [
  {
   "attachments": {},
   "cell_type": "markdown",
   "id": "10f48f8d",
   "metadata": {},
   "source": [
    "# Générateur de fiche de paye Pajemploi"
   ]
  },
  {
   "attachments": {},
   "cell_type": "markdown",
   "id": "98d33f98",
   "metadata": {},
   "source": [
    "Vous pouvez vous aider de ce générateur pour remplir les fiches de paye de votre auxiliare parentale sur ([Pajemploi](https://www.pajemploi.urssaf.fr/)) directement en ligne.\n",
    "\n",
    "Remplissez la configuration ci-dessous pour le contrat qui vous lie avec l'auxiliaire parentale (salaire horaire, etc.) et les spécificités du mois pour lequel vous voulez générer la fiche de paye.\n",
    "\n",
    "Puis, cliquez en haut de la page sur `Run` puis `Run All Cells`."
   ]
  },
  {
   "attachments": {},
   "cell_type": "markdown",
   "id": "68acc7f6",
   "metadata": {},
   "source": [
    "## Setup"
   ]
  },
  {
   "cell_type": "code",
   "execution_count": null,
   "id": "60c8d9b7",
   "metadata": {},
   "outputs": [],
   "source": [
    "from datetime import datetime\n",
    "import utils"
   ]
  },
  {
   "attachments": {},
   "cell_type": "markdown",
   "id": "a897fb30",
   "metadata": {},
   "source": [
    "## Configuration (entrez vos données)"
   ]
  },
  {
   "attachments": {},
   "cell_type": "markdown",
   "id": "bd61c524",
   "metadata": {},
   "source": [
    "La configuration à éditer ci-dessous représente les détails du contrat de votre auxiliaire parentale.\n",
    "\n",
    "Schéma de données:\n",
    "- `start_date_period` : date de départ de la période pour laquelle ce contrat s'applique.\n",
    "- `end_date_period` : date de fin de la période pour laquelle ce contrat s'applique.\n",
    "- `hourly_salary` : salaire horaire **NET**.\n",
    "- `worked_weekly_hours` : nombre total d'heures hebdomadaires travaillées (max 50 légalement).\n",
    "- `recovered_weekly_hours` : nombre d'heures hebdomadaires \"récupérées\" en jours non-travaillés.\n",
    "- `transport_monthly_cost` : frais de transport mensuels de l'auxiliaire parentale.\n",
    "- `transport_allowance_prct` : part des frais de transport remboursés par les employeurs (usuellement 100%).\n",
    "- `daily_meal_allowance` : indemnité de repas quotidienne (par jour travaillé).\n",
    "- `allocation_key` : clé de répartition des frais sur les différentes famille en cas de garde partagée.\n",
    "\n",
    "Le schéma de données permet de donner plusieurs configs dans le cas ou un changement de contrat a eu lieu en cours de mois. Dans ce cas, faîtes bien attention à ce que les périodes temporelles soient bien disjointes."
   ]
  },
  {
   "cell_type": "code",
   "execution_count": null,
   "id": "522c706c",
   "metadata": {},
   "outputs": [],
   "source": [
    "configs = [\n",
    "    {\n",
    "        \"start_date_period\": \"2023-06-01\",\n",
    "        \"end_date_period\": \"2023-06-30\",\n",
    "        \"config\":{\n",
    "            \"hourly_salary\": 10.25,\n",
    "            \"worked_weekly_hours\": 50,\n",
    "            \"recovered_weekly_hours\": 0,\n",
    "            \"transport_monthly_cost\": 84.10,\n",
    "            \"transport_allowance_prct\": 1,\n",
    "            \"daily_meal_allowance\": 5,\n",
    "            \"allocation_key\": {\n",
    "                \"family\": [\"Martin\", \"Dupont\"],\n",
    "                \"salary\": [0.6, 0.4],\n",
    "                \"meal_allowance\": [0.5, 0.5],\n",
    "                \"transport_allowance\": [0.5, 0.5]\n",
    "            }\n",
    "        }\n",
    "    }\n",
    "]"
   ]
  },
  {
   "attachments": {},
   "cell_type": "markdown",
   "id": "89982092",
   "metadata": {},
   "source": [
    "La cellule ci-dessous permet de spécifier les absences de l'auxiliaire parentale pendand le mois par catégorie: vacances, jours fériés et congés maladies.\n",
    "\n",
    "- `vacation_calendar` : liste des périodes de congés payés et/ou jours de récupération sur le mois.\n",
    "    - `start_date_included` : premier jour de vacance de la période\n",
    "    - `end_date_excluded` : premier jour de **retour au travail** de l'auxiliaire parentale\n",
    "    - **Attention** : Pour signifier que l'auxiliaire parentale a été absente une demi-journée seulement, inscriver la même date pour `start_date_included` et `end_date_excluded`.\n",
    "- `holidays` : liste des jours fériés sur la période.\n",
    "- `sick_days` : liste des périodes de congés maladie sur le mois.\n",
    "    - `start_date_included` : premier jour de vacance de la période\n",
    "    - `end_date_excluded` : premier jour de **retour au travail** de l'auxiliaire parentale\n",
    "    - **Attention** : Pour signifier que l'auxiliaire parentale a été absente une demi-journée seulement, inscriver la même date pour `start_date_included` et `end_date_excluded`.\n",
    "\n",
    "Si vous n'avez pas d'absence à signaler ce mois-ci dans l'une ou l'autre catégorie, laisser la liste vide : `[]`"
   ]
  },
  {
   "cell_type": "code",
   "execution_count": null,
   "id": "c137831d",
   "metadata": {},
   "outputs": [],
   "source": [
    "vacation_calendar =  [\n",
    "    {\n",
    "        \"start_date_included\": \"2023-04-14\",\n",
    "        \"end_date_excluded\":\"2023-04-15\"\n",
    "    }\n",
    "]\n",
    "holidays = [\n",
    "    {\n",
    "        \"date\": \"2023-04-10\",\n",
    "        \"name\": \"Pâques\"\n",
    "    }\n",
    "]\n",
    "sick_days = [\n",
    "    {\n",
    "        \"start_date_included\": \"2023-05-29\",\n",
    "        \"end_date_excluded\":\"2023-04-15\"\n",
    "    }\n",
    "]"
   ]
  },
  {
   "attachments": {},
   "cell_type": "markdown",
   "id": "ec1d9318",
   "metadata": {},
   "source": [
    "## Revue du mois"
   ]
  },
  {
   "cell_type": "code",
   "execution_count": null,
   "id": "0d28a23b",
   "metadata": {},
   "outputs": [],
   "source": [
    "start_date = datetime.strptime(configs[0]['start_date_period'], \"%Y-%m-%d\").date()\n",
    "end_date = datetime.strptime(configs[len(configs)-1]['end_date_period'], \"%Y-%m-%d\").date()"
   ]
  },
  {
   "cell_type": "code",
   "execution_count": null,
   "id": "defe4f3f",
   "metadata": {},
   "outputs": [],
   "source": [
    "df = utils.display_monthly_review(\n",
    "    start_date=start_date,\n",
    "    end_date=end_date, \n",
    "    vacation_calendar=vacation_calendar, \n",
    "    holidays=holidays, \n",
    "    sick_days=sick_days\n",
    ")"
   ]
  },
  {
   "attachments": {},
   "cell_type": "markdown",
   "id": "5db8300c",
   "metadata": {},
   "source": [
    "## Déclaration Pajemploi"
   ]
  },
  {
   "cell_type": "code",
   "execution_count": null,
   "id": "b7c8cd29",
   "metadata": {},
   "outputs": [],
   "source": [
    "period_wages, cp_aquired, recovered_days_acquired = utils.compute_period_wages(start_date, end_date, configs, vacation_calendar=vacation_calendar, holidays=holidays, sick_days=sick_days)"
   ]
  },
  {
   "cell_type": "code",
   "execution_count": null,
   "id": "bbfeffb5",
   "metadata": {},
   "outputs": [],
   "source": [
    "total_wages = utils.compute_total_wages(period_wages)\n",
    "total_wages"
   ]
  },
  {
   "cell_type": "code",
   "execution_count": null,
   "id": "9897f73c",
   "metadata": {},
   "outputs": [],
   "source": [
    "utils.display_urssaf_input_values(total_wages, 'Martin')"
   ]
  },
  {
   "cell_type": "code",
   "execution_count": null,
   "id": "c4ba953b",
   "metadata": {},
   "outputs": [],
   "source": [
    "utils.display_paid_leave_acquired(cp_aquired, recovered_days_acquired)"
   ]
  }
 ],
 "metadata": {
  "kernelspec": {
   "display_name": "Python 3 (ipykernel)",
   "language": "python",
   "name": "python3"
  },
  "language_info": {
   "codemirror_mode": {
    "name": "ipython",
    "version": 3
   },
   "file_extension": ".py",
   "mimetype": "text/x-python",
   "name": "python",
   "nbconvert_exporter": "python",
   "pygments_lexer": "ipython3",
   "version": "3.10.6"
  }
 },
 "nbformat": 4,
 "nbformat_minor": 5
}
